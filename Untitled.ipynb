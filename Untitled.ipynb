{
 "cells": [
  {
   "cell_type": "code",
   "execution_count": 166,
   "metadata": {},
   "outputs": [],
   "source": [
    "import pandas as pd\n",
    "import matplotlib.pyplot as plt\n",
    "%matplotlib inline"
   ]
  },
  {
   "cell_type": "code",
   "execution_count": 167,
   "metadata": {},
   "outputs": [],
   "source": [
    "prod = pd.read_csv('Producao/2019-producao-mar.csv', usecols={'Ano', 'Produção de Óleo (m³)'}, decimal=',')\n",
    "\n",
    "prod = prod.dropna(axis=0)\n",
    "prod = prod.groupby('Ano').sum()"
   ]
  },
  {
   "cell_type": "code",
   "execution_count": 168,
   "metadata": {},
   "outputs": [],
   "source": [
    "prod2 = pd.read_csv('Producao/producao-mar-2016-2018.csv', usecols={'Ano', 'Produção de Óleo (m³)'}, decimal=',', encoding='latin-1')\n",
    "\n",
    "prod2 = prod2.dropna(axis=0)\n",
    "prod2 = prod2.groupby('Ano').sum()"
   ]
  },
  {
   "cell_type": "code",
   "execution_count": 169,
   "metadata": {},
   "outputs": [],
   "source": [
    "prod3 = pd.read_csv('Producao/producao-mar-2013-2015.csv', decimal=',', usecols={'Ano', 'Produção de Óleo (m³)'})\n",
    "\n",
    "prod3 = prod3.dropna(axis=0)\n",
    "prod3 = prod3.groupby('Ano').sum()"
   ]
  },
  {
   "cell_type": "code",
   "execution_count": 170,
   "metadata": {},
   "outputs": [],
   "source": [
    "prod4 = pd.read_csv('Producao/producao-mar-2010-2012.csv', decimal=',', usecols={'Ano', 'Produção de Óleo (m³)'})\n",
    "\n",
    "prod4 = prod4.dropna(axis=0)\n",
    "prod4 = prod4.groupby('Ano').sum()"
   ]
  },
  {
   "cell_type": "code",
   "execution_count": 171,
   "metadata": {},
   "outputs": [],
   "source": [
    "prod5 = pd.read_csv('Producao/producao-mar-2005-2009.csv', decimal=',', usecols={'Ano', 'Produção de Óleo (m³)'})\n",
    "\n",
    "prod5 = prod5.dropna(axis=0)\n",
    "prod5 = prod5.groupby('Ano').sum()"
   ]
  },
  {
   "cell_type": "code",
   "execution_count": 182,
   "metadata": {},
   "outputs": [],
   "source": [
    "producao_off = pd.concat([prod, prod2, prod3, prod4, prod5], sort=False)\n",
    "\n",
    "# BBL\n",
    "producao_off['Produção de Óleo (m³)'] = producao_off['Produção de Óleo (m³)']*1000/159"
   ]
  },
  {
   "cell_type": "code",
   "execution_count": 183,
   "metadata": {},
   "outputs": [
    {
     "data": {
      "image/png": "[encoded data removed]",
      "text/plain": [
       "<Figure size 432x288 with 1 Axes>"
      ]
     },
     "metadata": {
      "needs_background": "light"
     },
     "output_type": "display_data"
    }
   ],
   "source": [
    "p1 = plt.bar(producao_off.index, producao_off['Produção de Óleo (m³)'])\n",
    "\n",
    "plt.ylabel('BBL/ano')\n",
    "plt.title('Produção de Petróleo Offshore no Brasil')\n",
    "plt.show()"
   ]
  },
  {
   "cell_type": "markdown",
   "metadata": {},
   "source": [
    "## Quantidade e extensão de dutos em operação"
   ]
  },
  {
   "cell_type": "code",
   "execution_count": 208,
   "metadata": {},
   "outputs": [
    {
     "data": {
      "text/html": [
       "<div>\n",
       "<style scoped>\n",
       "    .dataframe tbody tr th:only-of-type {\n",
       "        vertical-align: middle;\n",
       "    }\n",
       "\n",
       "    .dataframe tbody tr th {\n",
       "        vertical-align: top;\n",
       "    }\n",
       "\n",
       "    .dataframe thead th {\n",
       "        text-align: right;\n",
       "    }\n",
       "</style>\n",
       "<table border=\"1\" class=\"dataframe\">\n",
       "  <thead>\n",
       "    <tr style=\"text-align: right;\">\n",
       "      <th></th>\n",
       "      <th></th>\n",
       "      <th>QTDE DUTOS</th>\n",
       "      <th>EXTENSÃO em km</th>\n",
       "    </tr>\n",
       "    <tr>\n",
       "      <th>FUNÇÃO</th>\n",
       "      <th>PRODUTO MOVIMENTADO</th>\n",
       "      <th></th>\n",
       "      <th></th>\n",
       "    </tr>\n",
       "  </thead>\n",
       "  <tbody>\n",
       "    <tr>\n",
       "      <th rowspan=\"2\" valign=\"top\">Transferência</th>\n",
       "      <th>Derivados(1)</th>\n",
       "      <td>452</td>\n",
       "      <td>2.180</td>\n",
       "    </tr>\n",
       "    <tr>\n",
       "      <th>Etanol(2)</th>\n",
       "      <td>35</td>\n",
       "      <td>37.000</td>\n",
       "    </tr>\n",
       "    <tr>\n",
       "      <th rowspan=\"2\" valign=\"top\">Transferência</th>\n",
       "      <th>Gás natural</th>\n",
       "      <td>62</td>\n",
       "      <td>2.246</td>\n",
       "    </tr>\n",
       "    <tr>\n",
       "      <th>Petróleo</th>\n",
       "      <td>23</td>\n",
       "      <td>1.812</td>\n",
       "    </tr>\n",
       "    <tr>\n",
       "      <th rowspan=\"4\" valign=\"top\">Transporte</th>\n",
       "      <th>Derivados(1)</th>\n",
       "      <td>94</td>\n",
       "      <td>5.104</td>\n",
       "    </tr>\n",
       "    <tr>\n",
       "      <th>Etanol(2)</th>\n",
       "      <td>2</td>\n",
       "      <td>357.000</td>\n",
       "    </tr>\n",
       "    <tr>\n",
       "      <th>Gás natural</th>\n",
       "      <td>48</td>\n",
       "      <td>9.486</td>\n",
       "    </tr>\n",
       "    <tr>\n",
       "      <th>Petróleo</th>\n",
       "      <td>2</td>\n",
       "      <td>32.000</td>\n",
       "    </tr>\n",
       "  </tbody>\n",
       "</table>\n",
       "</div>"
      ],
      "text/plain": [
       "                                     QTDE DUTOS  EXTENSÃO em km\n",
       "FUNÇÃO          PRODUTO MOVIMENTADO                            \n",
       "Transferência   Derivados(1)                452           2.180\n",
       "                Etanol(2)                    35          37.000\n",
       "Transferência   Gás natural                  62           2.246\n",
       "                Petróleo                     23           1.812\n",
       "Transporte      Derivados(1)                 94           5.104\n",
       "                Etanol(2)                     2         357.000\n",
       "                Gás natural                  48           9.486\n",
       "                Petróleo                      2          32.000"
      ]
     },
     "execution_count": 208,
     "metadata": {},
     "output_type": "execute_result"
    }
   ],
   "source": [
    "dutos = pd.read_csv('Dutos operacao.csv', encoding='latin-1', sep=';')\n",
    "dutos = dutos.groupby(['FUNÇÃO', 'PRODUTO MOVIMENTADO']).sum()\n",
    "\n",
    "dutos"
   ]
  },
  {
   "cell_type": "markdown",
   "metadata": {},
   "source": [
    "### Campos em desenvolvimento"
   ]
  },
  {
   "cell_type": "code",
   "execution_count": 226,
   "metadata": {},
   "outputs": [],
   "source": [
    "campos = pd.read_csv('Campos desenvolvimento.csv', usecols={'Terra/Mar'}, encoding='latin-1', sep=';')\n",
    "# dutos = dutos.groupby(['FUNÇÃO', 'PRODUTO MOVIMENTADO']).sum()\n",
    "\n",
    "campos_off = campos.loc[(campos['Terra/Mar']) == 'Mar'].count()"
   ]
  },
  {
   "cell_type": "code",
   "execution_count": 235,
   "metadata": {},
   "outputs": [
    {
     "name": "stdout",
     "output_type": "stream",
     "text": [
      "Campos na etapa de desenvolvimento até 31/12/2018 [65]\n"
     ]
    }
   ],
   "source": [
    "print('Campos na etapa de desenvolvimento até 31/12/2018', campos_off.values)"
   ]
  },
  {
   "cell_type": "markdown",
   "metadata": {},
   "source": [
    "### Campos a fase de produção"
   ]
  },
  {
   "cell_type": "code",
   "execution_count": 251,
   "metadata": {},
   "outputs": [],
   "source": [
    "campos_prod = pd.read_csv('Campos na fase de producao.csv', usecols={'Terra/Mar'}, encoding='latin-1', sep=';')\n",
    "\n",
    "campos_prod = campos_prod.loc[(campos_prod['Terra/Mar']) == 'Mar'].count()"
   ]
  },
  {
   "cell_type": "code",
   "execution_count": 252,
   "metadata": {},
   "outputs": [
    {
     "name": "stdout",
     "output_type": "stream",
     "text": [
      "Campos em produção até 31/12/2018 [130]\n"
     ]
    }
   ],
   "source": [
    "print('Campos em produção até 31/12/2018', campos_prod.values)"
   ]
  },
  {
   "cell_type": "markdown",
   "metadata": {},
   "source": [
    "### UEPS em operação"
   ]
  },
  {
   "cell_type": "code",
   "execution_count": 255,
   "metadata": {},
   "outputs": [],
   "source": [
    "ueps = pd.read_csv('dados-abertos-ueps-operacao.csv', encoding='latin-1', sep=';')"
   ]
  },
  {
   "cell_type": "code",
   "execution_count": 260,
   "metadata": {},
   "outputs": [
    {
     "name": "stdout",
     "output_type": "stream",
     "text": [
      "UEPS em operação até 31/12/2018: 141\n"
     ]
    }
   ],
   "source": [
    "print('UEPS em operação até 31/12/2018:', ueps['Sigla'].count())"
   ]
  },
  {
   "cell_type": "markdown",
   "metadata": {},
   "source": [
    "### Número de poços produtores de petróleo e de gás natural, por localização (terra e mar), segundo Unidades da Federação "
   ]
  },
  {
   "cell_type": "code",
   "execution_count": 276,
   "metadata": {},
   "outputs": [],
   "source": [
    "pocos_prod = pd.read_csv('Pocos Produtores.csv', usecols={'Localização', 'Ano', 'Número de poços produtores de petróleo e de gás natural'}, encoding='latin-1', sep=';')\n",
    "pocos_prod = pocos_prod.loc[(pocos_prod['Localização']) == 'Mar']\n",
    "pocos_prod_off = pocos_prod.groupby('Ano').sum()"
   ]
  },
  {
   "cell_type": "code",
   "execution_count": 294,
   "metadata": {},
   "outputs": [
    {
     "data": {
      "image/png": "[encoded data removed]",
      "text/plain": [
       "<Figure size 432x288 with 1 Axes>"
      ]
     },
     "metadata": {
      "needs_background": "light"
     },
     "output_type": "display_data"
    }
   ],
   "source": [
    "p1 = plt.bar(pocos_prod_off.index, pocos_prod_off['Número de poços produtores de petróleo e de gás natural'])\n",
    "\n",
    "plt.ylabel('Número de poços')\n",
    "plt.xlim((2008,2019))\n",
    "plt.title('Número de poços produtores de petróleo e de gás natural')\n",
    "plt.show()"
   ]
  },
  {
   "cell_type": "markdown",
   "metadata": {},
   "source": [
    "### Poços perfurados, por localização (terra e mar), segundo o tipo – 2009-2018"
   ]
  },
  {
   "cell_type": "code",
   "execution_count": 315,
   "metadata": {},
   "outputs": [],
   "source": [
    "pocos_perf = pd.read_csv('Pocos Perfurados.csv',  encoding='latin-1', sep=';')\n",
    "pocos_perf = pocos_perf.loc[(pocos_perf['Localização']) == 'Mar']\n",
    "pocos_perf_off = pocos_perf.groupby(['Ano']).sum()"
   ]
  },
  {
   "cell_type": "code",
   "execution_count": 318,
   "metadata": {},
   "outputs": [
    {
     "data": {
      "image/png": "[encoded data removed]",
      "text/plain": [
       "<Figure size 432x288 with 1 Axes>"
      ]
     },
     "metadata": {
      "needs_background": "light"
     },
     "output_type": "display_data"
    }
   ],
   "source": [
    "p1 = plt.bar(pocos_perf_off.index, pocos_perf_off['Poços perfurados'])\n",
    "\n",
    "plt.ylabel('Número de poços')\n",
    "plt.xlim((2008,2019))\n",
    "plt.title('Número de poços perfurados de petróleo e de gás natural')\n",
    "plt.show()"
   ]
  }
 ],
 "metadata": {
  "kernelspec": {
   "display_name": "Python 3",
   "language": "python",
   "name": "python3"
  },
  "language_info": {
   "codemirror_mode": {
    "name": "ipython",
    "version": 3
   },
   "file_extension": ".py",
   "mimetype": "text/x-python",
   "name": "python",
   "nbconvert_exporter": "python",
   "pygments_lexer": "ipython3",
   "version": "3.7.4"
  }
 },
 "nbformat": 4,
 "nbformat_minor": 4
}
